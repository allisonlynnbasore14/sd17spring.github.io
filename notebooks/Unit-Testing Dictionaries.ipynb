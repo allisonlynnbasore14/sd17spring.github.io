{
 "cells": [
  {
   "cell_type": "markdown",
   "metadata": {},
   "source": [
    "# Unit-testing functions that return dictionaries"
   ]
  },
  {
   "cell_type": "markdown",
   "metadata": {},
   "source": [
    "Dictionaries don't remember the order in which you inserted elements. The following code initializes `d1['h']` and `d1['e']` in the opposite order, but `d1` and `d2` print the same:"
   ]
  },
  {
   "cell_type": "code",
   "execution_count": 1,
   "metadata": {
    "collapsed": false
   },
   "outputs": [
    {
     "name": "stdout",
     "output_type": "stream",
     "text": [
      "d1 = {'h': 1, 'e': 2}\n",
      "d2 = {'h': 1, 'e': 2}\n"
     ]
    }
   ],
   "source": [
    "d1 = dict()\n",
    "d1['h'] = 1\n",
    "d1['e'] = 2\n",
    "print('d1 =', d1)\n",
    "\n",
    "d2 = dict()\n",
    "d2['e'] = 2\n",
    "d2['h'] = 1\n",
    "print('d2 =', d1)"
   ]
  },
  {
   "cell_type": "markdown",
   "metadata": {},
   "source": [
    "We can verify that the keys are in the same order by looping over them."
   ]
  },
  {
   "cell_type": "code",
   "execution_count": 6,
   "metadata": {
    "collapsed": false
   },
   "outputs": [
    {
     "name": "stdout",
     "output_type": "stream",
     "text": [
      "d1's 0th key = 'h'\n",
      "d1's 1th key = 'e'\n",
      "d2's 0th key = 'h'\n",
      "d2's 1th key = 'e'\n"
     ]
    }
   ],
   "source": [
    "for i, k in enumerate(d1.keys()):\n",
    "    print(\"d1's %dth key = %r\" % (i, k))\n",
    "\n",
    "for i, k in enumerate(d2.keys()):\n",
    "    print(\"d2's %dth key = %r\" % (i, k))"
   ]
  },
  {
   "cell_type": "markdown",
   "metadata": {},
   "source": [
    "This is an example where *different* code creates dictionaries with their keys in the *same* order.\n",
    "\n",
    "What you don't see above is that the *same* code can create a dictionary with its keys in a *different* order – if you run the code one day and then the next, or on two different computers.\n",
    "\n",
    "This poses a problem for unit testing. Here's an implementation of `histogram` from the Day 7 Reading Journal, with a unit test that was worked one day. It fails today."
   ]
  },
  {
   "cell_type": "code",
   "execution_count": 13,
   "metadata": {
    "collapsed": false,
    "scrolled": true
   },
   "outputs": [
    {
     "name": "stdout",
     "output_type": "stream",
     "text": [
      "**********************************************************************\n",
      "File \"__main__\", line 3, in NoName\n",
      "Failed example:\n",
      "    histogram(\"hello\")\n",
      "Expected:\n",
      "    {'h': 1, 'l': 2, 'o': 1, 'e': 1}\n",
      "Got:\n",
      "    {'h': 1, 'o': 1, 'l': 2, 'e': 1}\n"
     ]
    }
   ],
   "source": [
    "def histogram(s):\n",
    "    \"\"\"Return a dict that maps each character in s to the count of its occurrences in s.\n",
    "    >>> histogram(\"hello\")\n",
    "    {'h': 1, 'l': 2, 'o': 1, 'e': 1}\n",
    "    \"\"\"\n",
    "    d = dict()\n",
    "    for c in s:\n",
    "        d[c] = d.get(c, 0) + 1\n",
    "    return d\n",
    "\n",
    "import doctest\n",
    "doctest.run_docstring_examples(histogram, globals())"
   ]
  },
  {
   "cell_type": "markdown",
   "metadata": {},
   "source": [
    "The problem is that yesterday's dictionary prints the 'e' key before the 'o' key.\n",
    "\n",
    "doctest compares the printed representations, so yesterday's dict counts as different from today's dict. This is even though Python considers the two dictionaries equal:"
   ]
  },
  {
   "cell_type": "code",
   "execution_count": 14,
   "metadata": {
    "collapsed": false,
    "scrolled": true
   },
   "outputs": [
    {
     "data": {
      "text/plain": [
       "True"
      ]
     },
     "execution_count": 14,
     "metadata": {},
     "output_type": "execute_result"
    }
   ],
   "source": [
    "{'h': 1, 'l': 2, 'o': 1, 'e': 1} == {'h': 1, 'o': 1, 'l': 2, 'e': 1}"
   ]
  },
  {
   "cell_type": "markdown",
   "metadata": {},
   "source": [
    "We could change the doctest to expect `{'h': 1, 'o': 1, 'l': 2, 'e': 1}` instead of `{'h': 1, 'l': 2, 'o': 1, 'e': 1}`.\n",
    "This would fix the test today; it might just break again tomorrow.\n",
    "\n",
    "Here are some more robust workarounds."
   ]
  },
  {
   "cell_type": "code",
   "execution_count": 15,
   "metadata": {
    "collapsed": true
   },
   "outputs": [],
   "source": [
    "# Test whether Python considers the values equal, rather than whether their printed representations are the same.\n",
    "\n",
    "def histogram(s):\n",
    "    \"\"\"Return a dict that maps each character in s to the count of its occurrences in s.\n",
    "    >>> histogram(\"hello\") == {'h': 1, 'e': 1, 'l': 2, 'o': 1}\n",
    "    True\n",
    "    \"\"\"\n",
    "    d = dict()\n",
    "    for c in s:\n",
    "        d[c] = d.get(c, 0) + 1\n",
    "    return d\n",
    "\n",
    "import doctest\n",
    "doctest.run_docstring_examples(histogram, globals())"
   ]
  },
  {
   "cell_type": "code",
   "execution_count": 47,
   "metadata": {
    "collapsed": false,
    "scrolled": true
   },
   "outputs": [
    {
     "name": "stdout",
     "output_type": "stream",
     "text": [
      "**********************************************************************\n",
      "File \"__main__\", line 6, in NoName\n",
      "Failed example:\n",
      "    broken_histogram(\"hello\") == {'h': 1, 'l': 2, 'o': 1, 'e': 1}\n",
      "Expected:\n",
      "    True\n",
      "Got:\n",
      "    False\n"
     ]
    }
   ],
   "source": [
    "# The solution in the previous cell has the disadvantage that if the test *fails*, the expected and\n",
    "# actual values aren't printed.\n",
    "\n",
    "def broken_histogram(s):\n",
    "    \"\"\"Return a dict that maps each character in s to the count of its occurrences in s.\n",
    "    >>> broken_histogram(\"hello\") == {'h': 1, 'l': 2, 'o': 1, 'e': 1}\n",
    "    True\n",
    "    \"\"\"\n",
    "    d = dict()\n",
    "    for c in s:\n",
    "        d[c] = d.get(c, 0) + 1\n",
    "    # make it fail:\n",
    "    del d['e']\n",
    "    return d\n",
    "\n",
    "import doctest\n",
    "doctest.run_docstring_examples(broken_histogram, globals())"
   ]
  },
  {
   "cell_type": "markdown",
   "metadata": {},
   "source": [
    "Another strategy is to use the return value that to create another value that doesn't depend\n",
    "on the order of keys in a dictionary. One possibility is to *sort* the keys."
   ]
  },
  {
   "cell_type": "code",
   "execution_count": 19,
   "metadata": {
    "collapsed": false
   },
   "outputs": [],
   "source": [
    "def histogram(s):\n",
    "    \"\"\"Return a dict that maps each character in s to the count of its occurrences in s.\n",
    "    >>> sorted(histogram(\"hello\").items())\n",
    "    [('e', 1), ('h', 1), ('l', 2), ('o', 1)]\n",
    "    \"\"\"\n",
    "    d = dict()\n",
    "    for c in s:\n",
    "        d[c] = d.get(c, 0) + 1\n",
    "    return d\n",
    "\n",
    "import doctest\n",
    "doctest.run_docstring_examples(histogram, globals())"
   ]
  },
  {
   "cell_type": "markdown",
   "metadata": {},
   "source": [
    "`('e', 1)` is guaranteed to precede `('h', 1)` because `'e'` precedes `'h'`. ([Python documentation](https://docs.python.org/3/library/stdtypes.html#common-sequence-operations).) This is called [lexicographic order](https://en.wikipedia.org/wiki/Lexicographical_order)."
   ]
  },
  {
   "cell_type": "markdown",
   "metadata": {},
   "source": [
    "You can also spot-check the returned value. This is often necessary for a larger return value, that is too large to comfortably print or include in a doc string."
   ]
  },
  {
   "cell_type": "code",
   "execution_count": 25,
   "metadata": {
    "collapsed": false
   },
   "outputs": [],
   "source": [
    "def histogram(s):\n",
    "    \"\"\"Return a dict that maps each character in s to the count of its occurrences in s.\n",
    "    >>> h = histogram(\"hello\")\n",
    "    >>> h['h']\n",
    "    1\n",
    "    >>> h['l']\n",
    "    2\n",
    "    >>> 'q' in h\n",
    "    False\n",
    "    \"\"\"\n",
    "    d = dict()\n",
    "    for c in s:\n",
    "        d[c] = d.get(c, 0) + 1\n",
    "    return d\n",
    "\n",
    "import doctest\n",
    "doctest.run_docstring_examples(histogram, globals())"
   ]
  },
  {
   "cell_type": "markdown",
   "metadata": {},
   "source": [
    "Finally, this issue comes about because doctest compares string representations of values instead of the values themselves. doctest is wonderful but it has limitations.\n",
    "\n",
    "If you graduate to another test framework such as (the build in) [unittest](https://docs.python.org/3/library/unittest.html) framework or the widely-adopted [pytest](http://docs.pytest.org/en/latest/) framework, you will write functions that compare values instead of string representations:"
   ]
  },
  {
   "cell_type": "code",
   "execution_count": 48,
   "metadata": {
    "collapsed": false
   },
   "outputs": [],
   "source": [
    "def test_histogram():\n",
    "    assert histogram('hello') == {'h': 1, 'e': 1, 'l': 2, 'o': 1}\n",
    "\n",
    "test_histogram()"
   ]
  },
  {
   "cell_type": "markdown",
   "metadata": {},
   "source": [
    "When a test fails, these  test frameworks report both the expected and actual values.\n",
    "\n",
    "In the block below, where the test is run without any framework, this happens because the value is in the source code and Python prints the offendng line of source code.\n",
    "\n",
    "A test framework prints the values even when they're computed."
   ]
  },
  {
   "cell_type": "code",
   "execution_count": 49,
   "metadata": {
    "collapsed": false
   },
   "outputs": [
    {
     "ename": "AssertionError",
     "evalue": "",
     "output_type": "error",
     "traceback": [
      "\u001b[0;31m---------------------------------------------------------------------------\u001b[0m",
      "\u001b[0;31mAssertionError\u001b[0m                            Traceback (most recent call last)",
      "\u001b[0;32m<ipython-input-49-aeef600b96c6>\u001b[0m in \u001b[0;36m<module>\u001b[0;34m()\u001b[0m\n\u001b[1;32m      2\u001b[0m     \u001b[0;32massert\u001b[0m \u001b[0mbroken_histogram\u001b[0m\u001b[0;34m(\u001b[0m\u001b[0;34m'hello'\u001b[0m\u001b[0;34m)\u001b[0m \u001b[0;34m==\u001b[0m \u001b[0;34m{\u001b[0m\u001b[0;34m'h'\u001b[0m\u001b[0;34m:\u001b[0m \u001b[0;36m1\u001b[0m\u001b[0;34m,\u001b[0m \u001b[0;34m'e'\u001b[0m\u001b[0;34m:\u001b[0m \u001b[0;36m1\u001b[0m\u001b[0;34m,\u001b[0m \u001b[0;34m'l'\u001b[0m\u001b[0;34m:\u001b[0m \u001b[0;36m2\u001b[0m\u001b[0;34m,\u001b[0m \u001b[0;34m'o'\u001b[0m\u001b[0;34m:\u001b[0m \u001b[0;36m1\u001b[0m\u001b[0;34m}\u001b[0m\u001b[0;34m\u001b[0m\u001b[0m\n\u001b[1;32m      3\u001b[0m \u001b[0;34m\u001b[0m\u001b[0m\n\u001b[0;32m----> 4\u001b[0;31m \u001b[0mtest_broken_histogram\u001b[0m\u001b[0;34m(\u001b[0m\u001b[0;34m)\u001b[0m\u001b[0;34m\u001b[0m\u001b[0m\n\u001b[0m",
      "\u001b[0;32m<ipython-input-49-aeef600b96c6>\u001b[0m in \u001b[0;36mtest_broken_histogram\u001b[0;34m()\u001b[0m\n\u001b[1;32m      1\u001b[0m \u001b[0;32mdef\u001b[0m \u001b[0mtest_broken_histogram\u001b[0m\u001b[0;34m(\u001b[0m\u001b[0;34m)\u001b[0m\u001b[0;34m:\u001b[0m\u001b[0;34m\u001b[0m\u001b[0m\n\u001b[0;32m----> 2\u001b[0;31m     \u001b[0;32massert\u001b[0m \u001b[0mbroken_histogram\u001b[0m\u001b[0;34m(\u001b[0m\u001b[0;34m'hello'\u001b[0m\u001b[0;34m)\u001b[0m \u001b[0;34m==\u001b[0m \u001b[0;34m{\u001b[0m\u001b[0;34m'h'\u001b[0m\u001b[0;34m:\u001b[0m \u001b[0;36m1\u001b[0m\u001b[0;34m,\u001b[0m \u001b[0;34m'e'\u001b[0m\u001b[0;34m:\u001b[0m \u001b[0;36m1\u001b[0m\u001b[0;34m,\u001b[0m \u001b[0;34m'l'\u001b[0m\u001b[0;34m:\u001b[0m \u001b[0;36m2\u001b[0m\u001b[0;34m,\u001b[0m \u001b[0;34m'o'\u001b[0m\u001b[0;34m:\u001b[0m \u001b[0;36m1\u001b[0m\u001b[0;34m}\u001b[0m\u001b[0;34m\u001b[0m\u001b[0m\n\u001b[0m\u001b[1;32m      3\u001b[0m \u001b[0;34m\u001b[0m\u001b[0m\n\u001b[1;32m      4\u001b[0m \u001b[0mtest_broken_histogram\u001b[0m\u001b[0;34m(\u001b[0m\u001b[0;34m)\u001b[0m\u001b[0;34m\u001b[0m\u001b[0m\n",
      "\u001b[0;31mAssertionError\u001b[0m: "
     ]
    }
   ],
   "source": [
    "def test_broken_histogram():\n",
    "    assert broken_histogram('hello') == {'h': 1, 'e': 1, 'l': 2, 'o': 1}\n",
    "\n",
    "test_broken_histogram()"
   ]
  }
 ],
 "metadata": {
  "anaconda-cloud": {},
  "kernelspec": {
   "display_name": "Python [default]",
   "language": "python",
   "name": "python3"
  },
  "language_info": {
   "codemirror_mode": {
    "name": "ipython",
    "version": 3
   },
   "file_extension": ".py",
   "mimetype": "text/x-python",
   "name": "python",
   "nbconvert_exporter": "python",
   "pygments_lexer": "ipython3",
   "version": "3.5.2"
  }
 },
 "nbformat": 4,
 "nbformat_minor": 0
}
