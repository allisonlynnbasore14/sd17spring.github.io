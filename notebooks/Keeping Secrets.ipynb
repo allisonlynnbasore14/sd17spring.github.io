{
 "cells": [
  {
   "cell_type": "markdown",
   "metadata": {},
   "source": [
    "# Keeping Secrets"
   ]
  },
  {
   "cell_type": "markdown",
   "metadata": {},
   "source": [
    "## Part 1: Code Style"
   ]
  },
  {
   "cell_type": "markdown",
   "metadata": {},
   "source": [
    "Here's the final version of the file that was projected in class today:"
   ]
  },
  {
   "cell_type": "code",
   "execution_count": null,
   "metadata": {
    "collapsed": true
   },
   "outputs": [],
   "source": [
    "import requests\n",
    "import twitter\n",
    "import wikipedia\n",
    "\n",
    "\n",
    "# oliver_twist_full_text = requests.get('http://www.gutenberg.org/ebooks/730.txt.utf-8').text\n",
    "# print(oliver_twist_full_text[200:])\n",
    "#\n",
    "# summary = wikipedia.summary(\"Olin College\")\n",
    "# summary\n",
    "\n",
    "# sorted(set(summary.split()))\n",
    "\n",
    "def read_key(name):\n",
    "    return open(name + '.txt').read().strip()\n",
    "\n",
    "f = open('consumer_key')\n",
    "CONSUMER_KEY = .read().strip()\n",
    "\n",
    "CONSUMER_SECRET = open('consumer_secret.txt').read().strip()\n",
    "ACCESS_TOKEN_SECRET = open('access_token_secret.txt').read().strip()\n",
    "\n",
    "ACCESS_TOKEN_KEY = '13835862-rTQP5Ur1v2KfTjQ6WTaw6lWzPnBd06C78O4EeWBmk'\n",
    "\n",
    "api = twitter.Api(consumer_key=CONSUMER_KEY,\n",
    "                  consumer_secret=CONSUMER_SECRET,\n",
    "                  access_token_key=ACCESS_TOKEN_KEY,\n",
    "                  access_token_secret=ACCESS_TOKEN_SECRET)\n",
    "print(api.GetUserTimeline(screen_name='gvanrossum'))"
   ]
  },
  {
   "cell_type": "markdown",
   "metadata": {},
   "source": [
    "I mentioned that it was sloppy, but didn't say why. It was because these lines:\n",
    "\n",
    "    f = open('consumer_key')\n",
    "    CONSUMER_KEY = .read().strip()\n",
    "\n",
    "    CONSUMER_SECRET = open('consumer_secret.txt').read().strip()\n",
    "    ACCESS_TOKEN_SECRET = open('access_token_secret.txt').read().strip()\n",
    "\n",
    "are doing the same thing (initializing a variable from a text file) in two different ways:\n",
    "\n",
    "    f = open('consumer_key')\n",
    "    CONSUMER_KEY = .read().strip()\n",
    "    \n",
    "(used once) and:\n",
    "\n",
    "    CONSUMER_SECRET = open('consumer_secret.txt').read().strip()\n",
    "    \n",
    "(used twice, once for `CONSUMER_SECRET` and once for `ACCESS_TOKEN_SECRET`).\n",
    "\n",
    "This makes it look like two different things are going on, whereas it's really the same thing three times.\n",
    "\n",
    "Here's one fix, that makes them obviously parallel."
   ]
  },
  {
   "cell_type": "code",
   "execution_count": null,
   "metadata": {
    "collapsed": true
   },
   "outputs": [],
   "source": [
    "CONSUMER_KEY = open('consumer_key.txt').read().strip()\n",
    "CONSUMER_SECRET = open('consumer_secret.txt').read().strip()\n",
    "ACCESS_TOKEN_SECRET = open('access_token_secret.txt').read().strip()"
   ]
  },
  {
   "cell_type": "markdown",
   "metadata": {},
   "source": [
    "It could also have been turned into:\n",
    "\n",
    "    f1 = open('consumer_key.txt')\n",
    "    CONSUMER_KEY = f1.read().strip()\n",
    "\n",
    "    f2 = open('consumer_secret.txt')\n",
    "    CONSUMER_SECRET = f2.read().strip()\n",
    "\n",
    "    f3 = open('access_token_secret.txt')\n",
    "    ACCESS_TOKEN_SECRET = f3.read().strip()\n",
    "\n",
    "or\n",
    "\n",
    "    f = open('consumer_key.txt')\n",
    "    CONSUMER_KEY = f.read().strip()\n",
    "\n",
    "    f = open('consumer_secret.txt')\n",
    "    CONSUMER_SECRET = f.read().strip()\n",
    "\n",
    "    f = open('access_token_secret.txt')\n",
    "    ACCESS_TOKEN_SECRET = f.read().strip()\n",
    "\n",
    "Note that `f` in the second example takes on three different values at three different times. The *values* created by `open('consumer_key.txt')` and `open('consumer_secret.txt')` don't have anything more to do with each other in the second example than they do in the first."
   ]
  },
  {
   "cell_type": "markdown",
   "metadata": {},
   "source": [
    "(By the way, `CONSUMER_KEY` doesn't need to be kept secret. I just goofed in class and secret-ized one of the public keys first. I'm going to pretend for the rest of this notebook that `CONSUMER_KEY`, which doesn't need to be kept secret, is one of the secrets along with `CONSUMER_SECRET` and `ACCESS_TOKEN_SECRET`, which do.)"
   ]
  },
  {
   "cell_type": "markdown",
   "metadata": {},
   "source": [
    "### Factoring, and DRY"
   ]
  },
  {
   "cell_type": "markdown",
   "metadata": {},
   "source": [
    "The versions above all violate a principle of software engineering, [Don't Repeat Yourself](https://en.wikipedia.org/wiki/Don't_repeat_yourself) (“DRY”). The `open(...).read().strip()` pattern is repeated three times.\n",
    "\n",
    "It's easy to introduce a minor difference into one of these repetitions, and it's inconvenient to make a change to the pattern, since you have to make the same change in three different places. (Although Atom's [Multiple Cursors](http://flight-manual.atom.io/using-atom/sections/editing-and-deleting-text/#multiple-cursors-and-selections) (https://www.sitepoint.com/12-favorite-atom-tips-and-shortcuts-to-improve-your-workflow/#multiplecursors) mitigate this.)\n",
    "\n",
    "The solution is to [factor](https://en.wikipedia.org/wiki/Code_refactoring) the common code into a function. In this case, the three lines above become the five non-blank lines below:"
   ]
  },
  {
   "cell_type": "code",
   "execution_count": null,
   "metadata": {
    "collapsed": true
   },
   "outputs": [],
   "source": [
    "def read_key(name):\n",
    "    return open(name).read().strip()\n",
    "\n",
    "CONSUMER_KEY = read_key('consumer_key.txt')\n",
    "CONSUMER_SECRET = read_key('consumer_secret.txt')\n",
    "ACCESS_TOKEN_SECRET = read_key('access_token_secret.txt')"
   ]
  },
  {
   "cell_type": "markdown",
   "metadata": {},
   "source": [
    "(Factoring in code is the same idea as factoring in algebra. $2x + 2y$ has a common element (factor) $2$, which can be pulled out from the $x$ and $y$ that it applies to: $2x + 2y = 2(x + y)$.)"
   ]
  },
  {
   "cell_type": "markdown",
   "metadata": {},
   "source": [
    "We could also refactor the `.txt` from the three calls to `read_key`:"
   ]
  },
  {
   "cell_type": "code",
   "execution_count": null,
   "metadata": {
    "collapsed": false
   },
   "outputs": [],
   "source": [
    "def read_key(name):\n",
    "    return open(name + '.txt').read().strip()\n",
    "\n",
    "CONSUMER_KEY = read_key('consumer_key')\n",
    "CONSUMER_SECRET = read_key('consumer_secret')\n",
    "ACCESS_TOKEN_SECRET = read_key('access_token_secret')"
   ]
  },
  {
   "cell_type": "markdown",
   "metadata": {},
   "source": [
    "And we could have used the longer form, with an explicit variable to hold the open file, without having to repeat *that* in three places:"
   ]
  },
  {
   "cell_type": "code",
   "execution_count": null,
   "metadata": {
    "collapsed": true
   },
   "outputs": [],
   "source": [
    "def read_key(name):\n",
    "    f = open(name + '.txt')\n",
    "    return f.read().strip()\n",
    "\n",
    "CONSUMER_KEY = read_key('consumer_key')\n",
    "CONSUMER_SECRET = read_key('consumer_secret')\n",
    "ACCESS_TOKEN_SECRET = read_key('access_token_secret')"
   ]
  },
  {
   "cell_type": "markdown",
   "metadata": {},
   "source": [
    "Whether to use DRY or WET (look it up!) code in this case is a judgement call. On the one hand, it's nice to avoid repetition, for the reasons stated above. On the other hand, reading the block above requires chasing more values around from line to line. In this case, with so few lines so close together, the fact that it's WET isn't much of a problem – it's a judgement call about whether to DRY it here."
   ]
  },
  {
   "cell_type": "markdown",
   "metadata": {},
   "source": [
    "## Part 2: Cleaning up: file.close"
   ]
  },
  {
   "cell_type": "markdown",
   "metadata": {},
   "source": [
    "As mentioned in class, the code above leaves the three files open. This prevents them from being deleted, and it uses up operating system resources. We could close them when we're done:"
   ]
  },
  {
   "cell_type": "code",
   "execution_count": null,
   "metadata": {
    "collapsed": true
   },
   "outputs": [],
   "source": [
    "def read_key(name):\n",
    "    f = open(name + '.txt')\n",
    "    key = f.read().strip()\n",
    "    f.close()\n",
    "    return key\n",
    "\n",
    "CONSUMER_KEY = read_key('consumer_key')\n",
    "CONSUMER_SECRET = read_key('consumer_secret')\n",
    "ACCESS_TOKEN_SECRET = read_key('access_token_secret')"
   ]
  },
  {
   "cell_type": "markdown",
   "metadata": {},
   "source": [
    "Nos the work put into DRYing the code pays off. It would be painful to repeat the `open` / `read` / `close` pattern three times:\n",
    "\n",
    "    f1 = open('consumer_key.txt')\n",
    "    CONSUMER_KEY = f1.read().strip()\n",
    "    f1.close()\n",
    "\n",
    "    f2 = open('consumer_secret.txt')\n",
    "    CONSUMER_SECRET = f2.read().strip()\n",
    "    f2.close()\n",
    "\n",
    "    f3 = open('access_token_secret.txt')\n",
    "    ACCESS_TOKEN_SECRET = f3.read().strip()\n",
    "    f3.close()"
   ]
  },
  {
   "cell_type": "markdown",
   "metadata": {},
   "source": [
    "## Part 3: Moving to a single file"
   ]
  },
  {
   "cell_type": "markdown",
   "metadata": {},
   "source": [
    "It was sugggested in class that the keys could share a single file. For example, the first line could be the `CONSUMER_KEY`, the second the `CONSUMER_SECRET`, and the third the `ACCESS_TOKEN_SECRET`.\n",
    "\n",
    "Given a file `secrets.txt` that contains:\n",
    "\n",
    "    cSEN7ExG7qQYBpJf4n14egJKmxPX5NxceYAbZyTkR9SH9\n",
    "    3icp5X0PiDLm6KJXC1rLuUtgE\n",
    "    8YquG1daLXmErnz3NXxW54nWJtZwi8AYreUJzFceevi16Kot7l\n",
    "\n",
    "[I can put these in a public notebook now that I've regenerated the tokens.]"
   ]
  },
  {
   "cell_type": "code",
   "execution_count": null,
   "metadata": {
    "collapsed": true
   },
   "outputs": [],
   "source": [
    "keys = open('secrets.txt').readlines()\n",
    "CONSUMER_KEY = keys[0].strip()\n",
    "CONSUMER_SECRET = keys[1].strip()\n",
    "ACCESS_TOKEN_SECRET = keys[2].strip()"
   ]
  },
  {
   "cell_type": "code",
   "execution_count": null,
   "metadata": {
    "collapsed": true
   },
   "outputs": [],
   "source": [
    "Another approach is to create a Python file `secrets.py`:\n",
    "    \n",
    "    CONSUMER_KEY = 'cSEN7ExG7qQYBpJf4n14egJKmxPX5NxceYAbZyTkR9SH9'\n",
    "    CONSUMER_SECRET = '3icp5X0PiDLm6KJXC1rLuUtgE'\n",
    "    ACCESS_TOKEN_SECRET = '8YquG1daLXmErnz3NXxW54nWJtZwi8AYreUJzFceevi16Kot7l'"
   ]
  },
  {
   "cell_type": "markdown",
   "metadata": {},
   "source": [
    "Now I have to remember not to add `secrets.txt` or `secrets.py` to my repository. This will be the subject of a future post. (Hint: [`gitignore`]().)"
   ]
  },
  {
   "cell_type": "markdown",
   "metadata": {},
   "source": [
    "Finally, I could create a more structured text file, and parse it:\n",
    "\n",
    "`secrets.txt`:\n",
    "\n",
    "    CONSUMER_KEY: cSEN7ExG7qQYBpJf4n14egJKmxPX5NxceYAbZyTkR9SH9\n",
    "    CONSUMER_SECRET: 3icp5X0PiDLm6KJXC1rLuUtgE\n",
    "    ACCESS_TOKEN_SECRET: 8YquG1daLXmErnz3NXxW54nWJtZwi8AYreUJzFceevi16Kot7l\n",
    "    \n",
    "CONSUMER_KEY: cSEN7ExG7qQYBpJf4n14egJKmxPX5NxceYAbZyTkR9SH9\n",
    "CONSUMER_SECRET: 3icp5X0PiDLm6KJXC1rLuUtgE\n",
    "ACCESS_TOKEN_SECRET: 8YquG1daLXmErnz3NXxW54nWJtZwi8AYreUJzFceevi16Kot7l"
   ]
  },
  {
   "cell_type": "code",
   "execution_count": null,
   "metadata": {
    "collapsed": true
   },
   "outputs": [],
   "source": [
    "def read_key(name):\n",
    "    f = open('secrets.txt')\n",
    "    for line in f.readlines():\n",
    "        if line.startswith(name):\n",
    "            return line.split(':', 2)[-1].strip()\n",
    "    # FIXME: this should raise an exception, but I don't think we've covered that yet\n",
    "\n",
    "CONSUMER_KEY = read_key('CONSUMER_KEY')\n",
    "CONSUMER_SECRET = read_key('CONSUMER_SECRET')\n",
    "ACCESS_TOKEN_SECRET = read_key('ACCESS_TOKEN_SECRET')"
   ]
  },
  {
   "cell_type": "markdown",
   "metadata": {},
   "source": [
    "## Advanced Material"
   ]
  },
  {
   "cell_type": "markdown",
   "metadata": {},
   "source": [
    "### More on File Close"
   ]
  },
  {
   "cell_type": "markdown",
   "metadata": {},
   "source": [
    "Consider the code from above:\n",
    "\n",
    "    def read_key(name):\n",
    "        f = open(name + '.txt')\n",
    "        key = f.read().strip()\n",
    "        f.close()\n",
    "        return key\n",
    "\n",
    "What happens if there's an error during the execution of the `key = f.read().strip()` line?\n",
    "\n",
    "Then the file with never be closed. (`f.close()` won't be executed.)\n",
    "\n",
    "Encountering an error in a \\*.py file terminates the program anyway, and a program's open files are all closed when it is terminated, so this seems like it might not matter.\n",
    "\n",
    "However, there are techniques for catching and recovering from an error. If code that calls `read_key` recovers from an error in `read_key`, it will leave the file open.\n",
    "\n",
    "Here are a couple of techniques for ensuring that the file is closed:"
   ]
  },
  {
   "cell_type": "code",
   "execution_count": null,
   "metadata": {
    "collapsed": true
   },
   "outputs": [],
   "source": [
    "def read_key(name):\n",
    "    f = open(name + '.txt')\n",
    "    try:\n",
    "        key = f.read().strip()\n",
    "    finally:\n",
    "        f.close()\n",
    "    return key"
   ]
  },
  {
   "cell_type": "code",
   "execution_count": null,
   "metadata": {
    "collapsed": true
   },
   "outputs": [],
   "source": [
    "def read_key(name):\n",
    "    with open(name + '.txt') as f:\n",
    "        key = f.read().strip()\n",
    "        return key"
   ]
  },
  {
   "cell_type": "markdown",
   "metadata": {},
   "source": [
    "`try...finally` evaluates the code in the `try` block, and then *whether or not an error occurred* it executes the `finally` block. Then, if there *had been* an error, code *after* the `finally` block is skipped and the error is thrown to the caller, and the caller's caller, etc. until it reaches someone who handles the error (or until the whole program is exited).\n",
    "\n",
    "`with expr as f` is the same as `f = expr`, except that something like `f.close()` is automatically called when the block is exited, whether by `return`, and exception, or just running out of lines of code in the block.\n",
    "\n",
    "These two implementations could be further abbreviated:"
   ]
  },
  {
   "cell_type": "code",
   "execution_count": null,
   "metadata": {
    "collapsed": true
   },
   "outputs": [],
   "source": [
    "def read_key(name):\n",
    "    f = open(name + '.txt')\n",
    "    try:\n",
    "        return f.read().strip()\n",
    "    finally:\n",
    "        f.close()"
   ]
  },
  {
   "cell_type": "code",
   "execution_count": null,
   "metadata": {
    "collapsed": true
   },
   "outputs": [],
   "source": [
    "def read_key(name):\n",
    "    with open(name + '.txt') as f:\n",
    "        return f.read().strip()"
   ]
  },
  {
   "cell_type": "markdown",
   "metadata": {},
   "source": [
    "### Configuration files"
   ]
  },
  {
   "cell_type": "markdown",
   "metadata": {},
   "source": [
    "Having a text file that contains a set of values is something that is done *all the time*. A couple of standard configuration formats are [YAML](http://yaml.org) and INI. (Some others are [JSON](http://www.json.org) and [CSON](https://github.com/bevry/cson).)"
   ]
  },
  {
   "cell_type": "markdown",
   "metadata": {},
   "source": [
    "#### Parsing INI files"
   ]
  },
  {
   "cell_type": "markdown",
   "metadata": {},
   "source": [
    "(Sometimes these are called just \"configuration\" files, and end in `.cfg`.)"
   ]
  },
  {
   "cell_type": "markdown",
   "metadata": {},
   "source": [
    "```\n",
    "# secrets.ini\n",
    "[twitter]\n",
    "CONSUMER_KEY = cSEN7ExG7qQYBpJf4n14egJKmxPX5NxceYAbZyTkR9SH9\n",
    "CONSUMER_SECRET = 3icp5X0PiDLm6KJXC1rLuUtgE\n",
    "ACCESS_TOKEN_SECRET = 8YquG1daLXmErnz3NXxW54nWJtZwi8AYreUJzFceevi16Kot7l\n",
    "```"
   ]
  },
  {
   "cell_type": "markdown",
   "metadata": {},
   "source": [
    "Using the [configparser package](https://docs.python.org/3/library/configparser.html)"
   ]
  },
  {
   "cell_type": "code",
   "execution_count": null,
   "metadata": {
    "collapsed": true
   },
   "outputs": [],
   "source": [
    "import configparser\n",
    "\n",
    "config = configparser.ConfigParser()\n",
    "config.read('secrets.init')\n",
    "\n",
    "def read_key(name):\n",
    "    return config.get('twitter', name)"
   ]
  },
  {
   "cell_type": "markdown",
   "metadata": {},
   "source": [
    "#### YAML"
   ]
  },
  {
   "cell_type": "code",
   "execution_count": null,
   "metadata": {
    "collapsed": true
   },
   "outputs": [],
   "source": [
    "import yaml  # requires `sudo pip3 install PyYAML`\n",
    "\n",
    "def read_key(name):\n",
    "    with open('secrets.txt') as f:\n",
    "        secrets = yaml.load(f)\n",
    "    return secrets[name]"
   ]
  },
  {
   "cell_type": "markdown",
   "metadata": {},
   "source": [
    "#### DIY"
   ]
  },
  {
   "cell_type": "markdown",
   "metadata": {},
   "source": [
    "Also, back to the do-it-yourself version from the earlier section:\n",
    "    \n",
    "I might use more advanced techniques to write this function:\n",
    "\n",
    "    def read_key(name):\n",
    "        f = open('secrets.txt')\n",
    "        for line in f.readlines():\n",
    "            if line.startswith(name):\n",
    "                return line.split(':', 2)[-1].strip()\n",
    "        # FIXME: this should raise an exception, but I don't think we've covered that yet\n",
    "\n",
    "thus:"
   ]
  },
  {
   "cell_type": "code",
   "execution_count": null,
   "metadata": {
    "collapsed": true
   },
   "outputs": [],
   "source": [
    "def read_key(name):\n",
    "    with open('secrets.txt') as f:\n",
    "        # beware: secrets[key] has whitespace at each end\n",
    "        secrets = dict(line.split(:, 2) for line in f.readlines())\n",
    "    return secrets[key].strip()"
   ]
  },
  {
   "cell_type": "code",
   "execution_count": null,
   "metadata": {
    "collapsed": true
   },
   "outputs": [],
   "source": [
    "import re\n",
    "\n",
    "def read_key(name):\n",
    "    with open('secrets.txt') as f:\n",
    "        # in this version, the `secrets.keys()` doesn't contain whitespace at its ends\n",
    "        secrets = dict(re.findall(r'(.+?):\\s*(.+)', f.read()))\n",
    "    return secrets[key]"
   ]
  },
  {
   "cell_type": "markdown",
   "metadata": {},
   "source": [
    "## Environment variables"
   ]
  },
  {
   "cell_type": "markdown",
   "metadata": {},
   "source": [
    "Finally, instead of reading the values from a *file*, you can read them from an *environment variable*.\n",
    "\n",
    "Without going into detail on what that *means* (there's more [here](http://hackingthelibrary.org/assignments/lab-3/#an-introduction-to-environment-variables) if you want it), here's how to *do* this:\n",
    "\n",
    "In the terminal, execute the following to *set* the environment variable:\n",
    "\n",
    "    $ export CONSUMER_KEY='cSEN7ExG7qQYBpJf4n14egJKmxPX5NxceYAbZyTkR9SH9'\n",
    "\n",
    "In your Python file:\n",
    "\n",
    "    import os\n",
    "    \n",
    "    CONSUMER_KEY = os.environ['CONSUMER_KEY']\n",
    " \n",
    " Repeat for `CONSUMER_SECRET` and `ACCESS_TOKEN_SECRET`.\n",
    " \n",
    " Now run your Python program in the same terminal window where you executed the `export`:\n",
    " \n",
    "     $ python text_mining.py"
   ]
  },
  {
   "cell_type": "markdown",
   "metadata": {},
   "source": [
    "Having to type the `export` line (and having to remember where you put the value of the key) each time you open a new terminal window is a bother. Do this instead:\n",
    "\n",
    "Find out which shell you're running, by executing `printenv SHELL` in a terminal window.\n",
    "\n",
    "If you are running `bash` (the default if you followed the Get Set instruction), add the `export CONSUMER_KEY=...` and other `export` lines to the end of the file `.bashrc` in your home directory. (You can't see `.bashrc`, since it starts with a `.`. You can open it anyway, via `atom ~/.bashrc`.)\n",
    "\n",
    "Now all new terminal windows will have these variables set.\n",
    "\n",
    "Since these variables are set in every terminal, you may want to give them more descriptive names; for example `TWITTER_CONSUMER_KEY` etc. Then you can use the same track later for Facebook or other services, without the names colliding."
   ]
  },
  {
   "cell_type": "markdown",
   "metadata": {},
   "source": [
    "Finally, you can use project-specific enviornment variables, by setting up your system so that environment variables are automatically set when `cd` into a directory. See the [direnv](https://direnv.net) and [autoenv](https://github.com/kennethreitz/autoenv) utilities for information on how to do this."
   ]
  }
 ],
 "metadata": {
  "anaconda-cloud": {},
  "kernelspec": {
   "display_name": "Python [default]",
   "language": "python",
   "name": "python3"
  },
  "language_info": {
   "codemirror_mode": {
    "name": "ipython",
    "version": 3
   },
   "file_extension": ".py",
   "mimetype": "text/x-python",
   "name": "python",
   "nbconvert_exporter": "python",
   "pygments_lexer": "ipython3",
   "version": "3.5.2"
  }
 },
 "nbformat": 4,
 "nbformat_minor": 0
}
